{
 "cells": [
  {
   "cell_type": "code",
   "execution_count": 1,
   "metadata": {},
   "outputs": [],
   "source": [
    "import numpy as np\n",
    "import matplotlib.pyplot as plt"
   ]
  },
  {
   "cell_type": "markdown",
   "metadata": {},
   "source": [
    "# 1D Ising model + Transfer matrix\n",
    "\n",
    "* Construct the transfer matrix at temperature $T$ with external field $B$\n",
    "* Find the eivenvalues of the transfer matrix and compare to the exact results.\n",
    "* Evaluate the partition function $Z$ at different system size $N$ and $T$, $B$. Compare to the exact results.\n",
    "* For a fixed $N$, $T$, $B$, evaluate $\\langle S_0 S_j\\rangle$ where $j=0,1,\\cdots N$. \n",
    "* Plot $\\langle S_0 S_j\\rangle$ up to $j=N/2$ and show that it decays exponentially.\n",
    "  * Please try several $N$, $T$, $B$. What is the largest $N$ you can go? What is the lowest $T$ you can go?"
   ]
  },
  {
   "cell_type": "code",
   "execution_count": 2,
   "metadata": {},
   "outputs": [],
   "source": [
    "t     = 1\n",
    "kb    = 1\n",
    "beta  = 1/t/kb\n",
    "B     = 0\n",
    "N     = 32\n",
    "J    =  1"
   ]
  },
  {
   "cell_type": "code",
   "execution_count": 3,
   "metadata": {},
   "outputs": [
    {
     "data": {
      "text/plain": [
       "array([3.08616127, 2.35040239])"
      ]
     },
     "execution_count": 3,
     "metadata": {},
     "output_type": "execute_result"
    }
   ],
   "source": [
    "T = np.array([[np.exp(J*beta+B*beta),np.exp(-J*beta)],[np.exp(-J*beta),np.exp(J*beta-B*beta)]])\n",
    "\n",
    "e_vals,e_vecs = np.linalg.eig(T)\n",
    "e_vals"
   ]
  },
  {
   "cell_type": "code",
   "execution_count": 4,
   "metadata": {},
   "outputs": [
    {
     "name": "stdout",
     "output_type": "stream",
     "text": [
      "4586347990689702.0\n",
      "4586347990689702.0\n"
     ]
    }
   ],
   "source": [
    "z = np.array([[1,0],[0,1]])\n",
    "\n",
    "for i in range(N):\n",
    "    z = z.dot(T)\n",
    "    \n",
    "print(np.trace(z))\n",
    "print(e_vals[0]**N+ e_vals[1]**N)"
   ]
  },
  {
   "cell_type": "code",
   "execution_count": 5,
   "metadata": {},
   "outputs": [
    {
     "data": {
      "text/plain": [
       "[<matplotlib.lines.Line2D at 0x260da1bbe80>]"
      ]
     },
     "execution_count": 5,
     "metadata": {},
     "output_type": "execute_result"
    },
    {
     "data": {
      "image/png": "[encoded data removed]",
      "text/plain": [
       "<Figure size 432x288 with 1 Axes>"
      ]
     },
     "metadata": {
      "needs_background": "light"
     },
     "output_type": "display_data"
    }
   ],
   "source": [
    "result = np.zeros(N+1)\n",
    "z0 = np.array([[1,0],[0,-1]])\n",
    "for j in range(N):\n",
    "    z_s0sj = z0\n",
    "    z = np.array([[1,0],[0,1]])\n",
    "    for i in range(N):\n",
    "        z = z.dot(T)\n",
    "        if i==j:\n",
    "            z_s0sj = z_s0sj.dot(z0).dot(T)\n",
    "        else :\n",
    "            z_s0sj = z_s0sj.dot(T)    \n",
    "    result[j] = np.trace(z_s0sj)/np.trace(z)\n",
    "result[N]=result[0]\n",
    "plt.plot(result,'.')"
   ]
  },
  {
   "cell_type": "code",
   "execution_count": 6,
   "metadata": {},
   "outputs": [
    {
     "data": {
      "text/plain": [
       "[<matplotlib.lines.Line2D at 0x260da258f60>]"
      ]
     },
     "execution_count": 6,
     "metadata": {},
     "output_type": "execute_result"
    },
    {
     "data": {
      "image/png": "[encoded data removed]",
      "text/plain": [
       "<Figure size 432x288 with 1 Axes>"
      ]
     },
     "metadata": {
      "needs_background": "light"
     },
     "output_type": "display_data"
    }
   ],
   "source": [
    "N = 629\n",
    "result = np.zeros(N+1)\n",
    "z0 = np.array([[1,0],[0,-1]])\n",
    "for j in range(N):\n",
    "    z_s0sj = z0\n",
    "    z = np.array([[1,0],[0,1]])\n",
    "    for i in range(N):\n",
    "        z = z.dot(T)\n",
    "        if i==j:\n",
    "            z_s0sj = z_s0sj.dot(z0).dot(T)\n",
    "        else :\n",
    "            z_s0sj = z_s0sj.dot(T)    \n",
    "    result[j] = np.trace(z_s0sj)/np.trace(z)\n",
    "result[N]=result[0]\n",
    "plt.plot(result[0:N//2],'.')"
   ]
  },
  {
   "cell_type": "code",
   "execution_count": 7,
   "metadata": {},
   "outputs": [
    {
     "data": {
      "text/plain": [
       "[<matplotlib.lines.Line2D at 0x260da2da940>]"
      ]
     },
     "execution_count": 7,
     "metadata": {},
     "output_type": "execute_result"
    },
    {
     "data": {
      "image/png": "[encoded data removed]",
      "text/plain": [
       "<Figure size 432x288 with 1 Axes>"
      ]
     },
     "metadata": {
      "needs_background": "light"
     },
     "output_type": "display_data"
    }
   ],
   "source": [
    "t     = 0.12\n",
    "kb    = 1\n",
    "beta  = 1/t/kb\n",
    "N     = 32\n",
    "\n",
    "T = np.array([[np.exp(J*beta+B*beta),np.exp(-J*beta)],[np.exp(-J*beta),np.exp(J*beta-B*beta)]])\n",
    "result = np.zeros(N+1)\n",
    "z0 = np.array([[1,0],[0,-1]])\n",
    "for j in range(N):\n",
    "    z_s0sj = z0\n",
    "    z = np.array([[1,0],[0,1]])\n",
    "    for i in range(N):\n",
    "        z = z.dot(T)\n",
    "        if i==j:\n",
    "            z_s0sj = z_s0sj.dot(z0).dot(T)\n",
    "        else :\n",
    "            z_s0sj = z_s0sj.dot(T)    \n",
    "    result[j] = np.trace(z_s0sj)/np.trace(z)\n",
    "result[N]=result[0]\n",
    "plt.plot(result[0:N//2],'.')"
   ]
  }
 ],
 "metadata": {
  "kernelspec": {
   "display_name": "Python 3",
   "language": "python",
   "name": "python3"
  },
  "language_info": {
   "codemirror_mode": {
    "name": "ipython",
    "version": 3
   },
   "file_extension": ".py",
   "mimetype": "text/x-python",
   "name": "python",
   "nbconvert_exporter": "python",
   "pygments_lexer": "ipython3",
   "version": "3.7.3"
  }
 },
 "nbformat": 4,
 "nbformat_minor": 4
}
