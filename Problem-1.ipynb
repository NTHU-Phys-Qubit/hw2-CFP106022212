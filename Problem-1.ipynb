{
 "cells": [
  {
   "cell_type": "code",
   "execution_count": 1,
   "metadata": {
    "collapsed": true
   },
   "outputs": [],
   "source": [
    "import numpy as np\n",
    "import matplotlib.pyplot as plt"
   ]
  },
  {
   "cell_type": "markdown",
   "metadata": {},
   "source": [
    "# 1D Ising model + Transfer matrix\n",
    "\n",
    "* Construct the transfer matrix at temperature $T$ with external field $B$\n",
    "* Find the eivenvalues of the transfer matrix and compare to the exact results.\n",
    "* Evaluate the partition function $Z$ at different system size $N$ and $T$, $B$. Compare to the exact results.\n",
    "* For a fixed $N$, $T$, $B$, evaluate $\\langle S_0 S_j\\rangle$ where $j=0,1,\\cdots N$. \n",
    "* Plot $\\langle S_0 S_j\\rangle$ up to $j=N/2$ and show that it decays exponentially.\n",
    "  * Please try several $N$, $T$, $B$. What is the largest $N$ you can go? What is the lowest $T$ you can go?"
   ]
  },
  {
   "cell_type": "code",
   "execution_count": 2,
   "metadata": {
    "collapsed": true
   },
   "outputs": [],
   "source": [
    "def transfermatrix (t,B,N,J):\n",
    "    kb = 1\n",
    "    beta = 1/kb/t\n",
    "    T = np.array([[np.exp(J*beta+B*beta),np.exp(-J*beta)],[np.exp(-J*beta),np.exp(J*beta-B*beta)]])\n",
    "    return T\n",
    "\n",
    "def partition_function(t,B,N,J):\n",
    "    T = transfermatrix (t,B,N,J)\n",
    "    z = np.array([[1,0],[0,1]])\n",
    "    for i in range(N):\n",
    "        z = z.dot(T)\n",
    "    return z\n",
    "\n",
    "def exact_eigen(t,B,N,J):\n",
    "    kb = 1\n",
    "    beta = 1/kb/t\n",
    "    lambda1 = np.exp(beta*J)*np.cosh(beta*B) + np.sqrt(np.exp(-2*beta*J) + np.exp(2*beta*J)*np.sinh(beta*B)**2)\n",
    "    lambda2 = np.exp(beta*J)*np.cosh(beta*B) - np.sqrt(np.exp(-2*beta*J) + np.exp(2*beta*J)*np.sinh(beta*B)**2)\n",
    "    return np.array([lambda1,lambda2])"
   ]
  },
  {
   "cell_type": "markdown",
   "metadata": {},
   "source": [
    "Construct the transfer matrix at temperature $T$ with external field $B$"
   ]
  },
  {
   "cell_type": "code",
   "execution_count": 21,
   "metadata": {},
   "outputs": [
    {
     "name": "stdout",
     "output_type": "stream",
     "text": [
      "[[54.59815003  0.36787944]\n",
      " [ 0.36787944  0.13533528]]\n"
     ]
    }
   ],
   "source": [
    "t  =  1\n",
    "B  =  3\n",
    "N  = 32\n",
    "J  =  1\n",
    "print(transfermatrix (t,B,N,J))"
   ]
  },
  {
   "cell_type": "markdown",
   "metadata": {},
   "source": [
    "Find the eivenvalues of the transfer matrix and compare to the exact results."
   ]
  },
  {
   "cell_type": "code",
   "execution_count": 3,
   "metadata": {},
   "outputs": [
    {
     "name": "stdout",
     "output_type": "stream",
     "text": [
      "[3.08616127 2.35040239]\n",
      "exact:\n",
      "[3.08616127 2.35040239]\n"
     ]
    }
   ],
   "source": [
    "t  =  1\n",
    "B  =  0\n",
    "N  = 32\n",
    "J  =  1\n",
    "\n",
    "e_vals,e_vecs = np.linalg.eig(transfermatrix (t,B,N,J))\n",
    "print(e_vals)\n",
    "print(\"exact:\")\n",
    "\n",
    "print(exact_eigen(t,B,N,J))"
   ]
  },
  {
   "cell_type": "markdown",
   "metadata": {},
   "source": [
    "Evaluate the partition function $Z$ at different system size $N$ and $T$, $B$. Compare to the exact results."
   ]
  },
  {
   "cell_type": "code",
   "execution_count": 8,
   "metadata": {},
   "outputs": [
    {
     "name": "stdout",
     "output_type": "stream",
     "text": [
      "t=1 B=1 N=32 J=1\n",
      "by trace: 6.831231967849143e+27\n",
      "exact   : 6.831231967849113e+27\n",
      "\n",
      "t=1 B=10 N=16 J=1\n",
      "by trace: 2.7279023204583233e+76\n",
      "exact   : 2.7279023204583204e+76\n",
      "\n",
      "t=0.1 B=1 N=32 J=1\n",
      "by trace: 8.88113390315887e+277\n",
      "exact   : 8.881133903158874e+277\n",
      "\n",
      "t=1 B=1 N=10 J=1\n",
      "by trace: 499207324.1349155\n",
      "exact   : 499207324.1349148\n"
     ]
    }
   ],
   "source": [
    "print(\"t=1 B=1 N=32 J=1\")\n",
    "print(\"by trace:\",np.trace(partition_function(1,1,32,1)))\n",
    "print(\"exact   :\",np.sum(exact_eigen(1,1,32,1)**32))\n",
    "print()\n",
    "\n",
    "print(\"t=1 B=10 N=16 J=1\")\n",
    "print(\"by trace:\",np.trace(partition_function(1,10,16,1)))\n",
    "print(\"exact   :\",np.sum(exact_eigen(1,10,16,1)**16))\n",
    "print()\n",
    "\n",
    "print(\"t=0.1 B=1 N=32 J=1\")\n",
    "print(\"by trace:\",np.trace(partition_function(0.1,1,32,1)))\n",
    "print(\"exact   :\",np.sum(exact_eigen(0.1,1,32,1)**32))\n",
    "print()\n",
    "\n",
    "print(\"t=1 B=1 N=10 J=1\")\n",
    "print(\"by trace:\",np.trace(partition_function(1,1,10,1)))\n",
    "print(\"exact   :\",np.sum(exact_eigen(1,1,10,1)**10))"
   ]
  },
  {
   "cell_type": "markdown",
   "metadata": {},
   "source": [
    "For a fixed $N$, $T$, $B$, evaluate $\\langle S_0 S_j\\rangle$ where $j=0,1,\\cdots N$.\n",
    "\n",
    "\n",
    "Plot $\\langle S_0 S_j\\rangle$ up to $j=N/2$ and show that it decays exponentially"
   ]
  },
  {
   "cell_type": "code",
   "execution_count": 19,
   "metadata": {},
   "outputs": [
    {
     "data": {
      "image/png": "[encoded data removed]",
      "text/plain": [
       "<Figure size 432x288 with 2 Axes>"
      ]
     },
     "metadata": {
      "needs_background": "light"
     },
     "output_type": "display_data"
    }
   ],
   "source": [
    "t      = 1\n",
    "B      = 0\n",
    "N      = 32\n",
    "J      =  1\n",
    "result = np.zeros(N+1)\n",
    "z0     = np.array([[1,0],[0,-1]])\n",
    "T      = transfermatrix (t,B,N,J)\n",
    "\n",
    "for j in range(N):\n",
    "    z_s0sj = z0\n",
    "    z = np.array([[1,0],[0,1]])\n",
    "    for i in range(N):\n",
    "        z = z.dot(T)\n",
    "        if i==j:\n",
    "            z_s0sj = z_s0sj.dot(z0).dot(T)\n",
    "        else :\n",
    "            z_s0sj = z_s0sj.dot(T)    \n",
    "    result[j] = np.trace(z_s0sj)/np.trace(z)\n",
    "result[N]=result[0]\n",
    "\n",
    "plt.subplot(2, 1, 1)\n",
    "plt.plot(result[0:N//2],'.')\n",
    "plt.xlabel('j')\n",
    "plt.ylabel('<S$_{0}$S$_{j}$>')\n",
    "\n",
    "plt.subplot(2, 1, 2)\n",
    "plt.plot(result[0:N//2],'.')\n",
    "plt.xlabel('j')\n",
    "plt.ylabel('<S$_{0}$S$_{j}$>')\n",
    "plt.yscale('log')"
   ]
  },
  {
   "cell_type": "markdown",
   "metadata": {},
   "source": [
    "Please try several $N$, $T$, $B$. What is the largest $N$ you can go? What is the lowest $T$ you can go?"
   ]
  },
  {
   "cell_type": "code",
   "execution_count": 13,
   "metadata": {},
   "outputs": [
    {
     "data": {
      "text/plain": [
       "Text(0.5, 1.0, 'N = 629')"
      ]
     },
     "execution_count": 13,
     "metadata": {},
     "output_type": "execute_result"
    },
    {
     "data": {
      "image/png": "[encoded data removed]",
      "text/plain": [
       "<Figure size 432x288 with 1 Axes>"
      ]
     },
     "metadata": {
      "needs_background": "light"
     },
     "output_type": "display_data"
    }
   ],
   "source": [
    "t      = 1\n",
    "B      = 0\n",
    "N      = 629\n",
    "J      = 1\n",
    "result = np.zeros(N+1)\n",
    "z0     = np.array([[1,0],[0,-1]])\n",
    "T      = transfermatrix (t,B,N,J)\n",
    "\n",
    "for j in range(N):\n",
    "    z_s0sj = z0\n",
    "    z = np.array([[1,0],[0,1]])\n",
    "    for i in range(N):\n",
    "        z = z.dot(T)\n",
    "        if i==j:\n",
    "            z_s0sj = z_s0sj.dot(z0).dot(T)\n",
    "        else :\n",
    "            z_s0sj = z_s0sj.dot(T)    \n",
    "    result[j] = np.trace(z_s0sj)/np.trace(z)\n",
    "result[N]=result[0]\n",
    "plt.plot(result[0:N//2],'.')\n",
    "plt.xlabel('j')\n",
    "plt.ylabel('<S$_{0}$S$_{j}$>')\n",
    "plt.title('N = 629')"
   ]
  },
  {
   "cell_type": "code",
   "execution_count": 14,
   "metadata": {},
   "outputs": [
    {
     "data": {
      "text/plain": [
       "Text(0.5, 1.0, 't = 0.12')"
      ]
     },
     "execution_count": 14,
     "metadata": {},
     "output_type": "execute_result"
    },
    {
     "data": {
      "image/png": "[encoded data removed]",
      "text/plain": [
       "<Figure size 432x288 with 1 Axes>"
      ]
     },
     "metadata": {
      "needs_background": "light"
     },
     "output_type": "display_data"
    }
   ],
   "source": [
    "t      = 0.12\n",
    "B      = 0\n",
    "N      = 32\n",
    "J      = 1\n",
    "result = np.zeros(N+1)\n",
    "z0     = np.array([[1,0],[0,-1]])\n",
    "T      = transfermatrix (t,B,N,J)\n",
    "\n",
    "for j in range(N):\n",
    "    z_s0sj = z0\n",
    "    z = np.array([[1,0],[0,1]])\n",
    "    for i in range(N):\n",
    "        z = z.dot(T)\n",
    "        if i==j:\n",
    "            z_s0sj = z_s0sj.dot(z0).dot(T)\n",
    "        else :\n",
    "            z_s0sj = z_s0sj.dot(T)    \n",
    "    result[j] = np.trace(z_s0sj)/np.trace(z)\n",
    "result[N]=result[0]\n",
    "plt.plot(result[0:N//2],'.')\n",
    "plt.xlabel('j')\n",
    "plt.ylabel('<S$_{0}$S$_{j}$>')\n",
    "plt.title('t = 0.12')"
   ]
  }
 ],
 "metadata": {
  "kernelspec": {
   "display_name": "Python 3",
   "language": "python",
   "name": "python3"
  },
  "language_info": {
   "codemirror_mode": {
    "name": "ipython",
    "version": 3
   },
   "file_extension": ".py",
   "mimetype": "text/x-python",
   "name": "python",
   "nbconvert_exporter": "python",
   "pygments_lexer": "ipython3",
   "version": "3.6.8"
  }
 },
 "nbformat": 4,
 "nbformat_minor": 2
}
